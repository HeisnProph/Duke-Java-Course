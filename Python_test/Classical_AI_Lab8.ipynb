{
 "cells": [
  {
   "cell_type": "code",
   "execution_count": 20,
   "metadata": {},
   "outputs": [
    {
     "name": "stdout",
     "output_type": "stream",
     "text": [
      "[2401.0, -999.6, -999.2]\n",
      "[2408.99, -999.6, -999.2]\n",
      "[2410.4803666666667, -998.8548166666667, -999.0012844444445]\n",
      "[2414.8635518544443, -995.7865870352223, -997.2480103693334]\n",
      "[2419.6452623099453, -991.0048765797212, -992.4662999138324]\n",
      "Epoch 0: Loss = 478.17104555011144\n",
      "w0: 2419.6452623099453\n",
      "w1: -991.0048765797212\n",
      "w2: -992.4662999138324\n"
     ]
    }
   ],
   "source": [
    "import numpy as np\n",
    "\n",
    "def linear_regression(x, y, h, w0_init=2400, w1_init=-1000, w2_init=-1000, learning_rate=0.01, epochs=1):\n",
    "    \"\"\"\n",
    "    gradient decrease\n",
    "\n",
    "    Args:\n",
    "        x: age numpy list \n",
    "        y: mass numpy list\n",
    "        h: cost numpy list\n",
    "        w0_init: w0 init\n",
    "        w1_init: w1 init\n",
    "        w2_init: w2 init\n",
    "        learning_rate: learning step\n",
    "        epochs: times to train\n",
    "\n",
    "    Returns:\n",
    "        w0, w1, w2\n",
    "    \"\"\"\n",
    "\n",
    "    # normalize x and y to 0-1\n",
    "    x_scaled = (x - np.min(x)) / (np.max(x) - np.min(x))\n",
    "    # print(x_scaled)\n",
    "    y_scaled = (y - np.min(y)) / (np.max(y) - np.min(y))\n",
    "    # print(y_scaled)\n",
    "\n",
    "    # init w\n",
    "    w0 = w0_init\n",
    "    w1 = w1_init\n",
    "    w2 = w2_init\n",
    "\n",
    "  \n",
    "    for epoch in range(epochs):\n",
    "        for i in range(len(x_scaled)):\n",
    "            # predict\n",
    "            h_pred = w0 + w1 * x_scaled[i] + w2 * y_scaled[i]\n",
    "\n",
    "            # loss\n",
    "            loss = (h[i] - h_pred)\n",
    "\n",
    "            # gradient\n",
    "            grad_w0 = h_pred - h[i] \n",
    "            grad_w1 = (h_pred - h[i]) * x_scaled[i]\n",
    "            grad_w2 = (h_pred - h[i]) * y_scaled[i]\n",
    "\n",
    "            # update\n",
    "            w0 -= learning_rate * grad_w0\n",
    "            w1 -= learning_rate * grad_w1\n",
    "            w2 -= learning_rate * grad_w2\n",
    "            print([w0,w1,w2])\n",
    "\n",
    "        # print loss\n",
    "        if epoch % 10000 == 0:\n",
    "            print(f\"Epoch {epoch}: Loss = {loss}\")\n",
    "\n",
    "    return w0, w1, w2\n",
    "\n",
    "x = np.array([5, 1, 6, 8, 11])\n",
    "y = np.array([21, 18, 18.5, 19.5, 21.75])\n",
    "h = np.array([1300, 3200, 1925, 1750, 900])\n",
    "\n",
    "w0, w1, w2 = linear_regression(x, y, h)\n",
    "\n",
    "print(\"w0:\", w0)\n",
    "print(\"w1:\", w1)\n",
    "print(\"w2:\", w2)"
   ]
  },
  {
   "cell_type": "code",
   "execution_count": 18,
   "metadata": {},
   "outputs": [
    {
     "name": "stdout",
     "output_type": "stream",
     "text": [
      "[0.4 0.  0.5 0.7 1.  0.3 0.7]\n",
      "[0.5        0.         0.08333333 0.25       0.625      1.\n",
      " 0.16666667]\n"
     ]
    }
   ],
   "source": [
    "x = np.array([5, 1, 6, 8, 11,4,8])\n",
    "y = np.array([21, 18, 18.5, 19.5, 21.75,24,19])\n",
    "\n",
    "x_scaled = (x - np.min(x)) / (np.max(x) - np.min(x))\n",
    "print(x_scaled)\n",
    "y_scaled = (y - np.min(y)) / (np.max(y) - np.min(y))\n",
    "print(y_scaled)"
   ]
  },
  {
   "cell_type": "code",
   "execution_count": 19,
   "metadata": {},
   "outputs": [
    {
     "name": "stdout",
     "output_type": "stream",
     "text": [
      "1414.6378684814144 1981.6866280556742\n"
     ]
    }
   ],
   "source": [
    "h1 = w0 + 0.3*w1 + 1*w2 \n",
    "h2 = w0 + 0.7*w1 + 0.16666667*w2\n",
    "\n",
    "print(h1,h2)"
   ]
  }
 ],
 "metadata": {
  "kernelspec": {
   "display_name": "tf21",
   "language": "python",
   "name": "python3"
  },
  "language_info": {
   "codemirror_mode": {
    "name": "ipython",
    "version": 3
   },
   "file_extension": ".py",
   "mimetype": "text/x-python",
   "name": "python",
   "nbconvert_exporter": "python",
   "pygments_lexer": "ipython3",
   "version": "3.11.9"
  }
 },
 "nbformat": 4,
 "nbformat_minor": 2
}
