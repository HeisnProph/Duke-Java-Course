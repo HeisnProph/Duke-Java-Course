{
 "cells": [
  {
   "cell_type": "markdown",
   "metadata": {},
   "source": [
    "## First Quiz"
   ]
  },
  {
   "cell_type": "code",
   "execution_count": 1,
   "metadata": {},
   "outputs": [
    {
     "name": "stdout",
     "output_type": "stream",
     "text": [
      "4932\n",
      "['the']\n"
     ]
    }
   ],
   "source": [
    "\n",
    "def read_words_from_file(filename):\n",
    "    \"\"\"从文本文件读取单词。\n",
    "\n",
    "    Args:\n",
    "        filename: 文本文件路径。\n",
    "\n",
    "    Returns:\n",
    "        the amount of words in certain \n",
    "        the most frequent character used to figure out the key\n",
    "    \"\"\"\n",
    "    unique_words = {}\n",
    "    with open(filename, 'r') as file:\n",
    "        str = file.read().lower().replace('\\n',' ')\n",
    "        for i in str.split(' '):\n",
    "            if i:\n",
    "                unique_words[i] = unique_words[i]+1 if (i in unique_words.keys()) else 1\n",
    "          \n",
    "    return unique_words\n",
    "\n",
    "# 示例用法\n",
    "filename = \"/home/heisnproph/Project/Test/Duke-Java-Course/Array-list-data/data/likeit.txt\"\n",
    "words = read_words_from_file(filename)\n",
    "print(len(words.keys()))\n",
    "max_amount = max(words.values())\n",
    "max_words = [k for k,v in words.items() if v==max_amount]\n",
    "# for k,v in words.items():\n",
    "#     print(k+':',v)\n",
    "print(max_words)\n"
   ]
  },
  {
   "cell_type": "code",
   "execution_count": 30,
   "metadata": {},
   "outputs": [
    {
     "name": "stdout",
     "output_type": "stream",
     "text": [
      "{'DUKE': 0, 'FREDERICK': 20, 'AMIENS': 10, 'JAQUES': 57, 'LE BEAU': 14, 'CHARLES': 8, 'OLIVER': 37, 'ORLANDO': 120, 'ADAM': 10, 'DENNIS': 2, 'TOUCHSTONE': 74, 'SIR OLIVER MARTEXT': 0, 'CORIN': 24, 'SILVIUS': 24, 'WILLIAM': 11, 'ROSALIND': 200, 'CELIA': 108, 'PHEBE': 23, 'AUDREY': 12, 'Lords': 0, 'HYMEN': 2}\n"
     ]
    }
   ],
   "source": [
    "\n",
    "with open(filename,'r') as file:\n",
    "    roles = []\n",
    "\n",
    "    while(True):\n",
    "        str = file.readline()\n",
    "        if str.strip().split(',')[0] == \"DUKE\":\n",
    "            roles.append(\"DUKE\")\n",
    "            break\n",
    "    while(True):\n",
    "        str = file.readline()\n",
    "        roles.append(str.strip().split(',')[0])\n",
    "        if str.strip().split(',')[0] == \"Lords\":\n",
    "            break\n",
    "        \n",
    "    while('' in roles):\n",
    "        roles.remove('')\n",
    "    roles.remove(\"A person representing HYMEN\")\n",
    "    roles.append(\"HYMEN\")\n",
    "    roles = {i:0 for i in roles}\n",
    "    \n",
    "    while True:\n",
    "        str = file.readline()\n",
    "        if str:\n",
    "            try:\n",
    "                first_word = str.strip().split('.')[0]\n",
    "                roles[first_word] += 1\n",
    "            except KeyError:\n",
    "                continue\n",
    "        else:\n",
    "            break\n",
    "print(roles)       "
   ]
  },
  {
   "cell_type": "markdown",
   "metadata": {},
   "source": [
    "## Second Quiz"
   ]
  },
  {
   "cell_type": "code",
   "execution_count": 41,
   "metadata": {},
   "outputs": [
    {
     "name": "stdout",
     "output_type": "stream",
     "text": [
      "['ATT', 'AAT', 'ACT', 'TTG', 'TTT', 'AAC', 'AGT', 'AAT', 'TAT', 'TCA', 'ACT', 'ATT', 'AAA', 'TAT', 'TTA', 'AAT', 'AAT', 'TAA', 'GTT', 'ATT', 'AAA', 'CTA', 'TTA', 'AGT', 'ACA', 'GGG', 'CCT', 'GTA', 'TCT', 'CTG', 'ATG', 'CTG', 'AAC', 'TAT', 'GAT', 'GTG', 'TGA', 'CTT', 'AAG', 'CCC', 'CCA', 'AAT', 'ACA', 'TCA', 'TGT', 'TAT', 'TTG', 'GAT', 'CCA', 'AGG', 'TGC', 'TGC', 'ACA', 'GAA', 'CGC', 'TGA', 'CCC', 'TCT', 'CTA', 'AGA', 'GCT', 'GGG', 'TAT', 'TAC', 'T']\n"
     ]
    }
   ],
   "source": [
    "str = \"ATTAATACTTTGTTTAACAGTAATTATTCAACTATTAAATATTTAAATAATTAAGTTATTAAACTATTAAGTACAGGGCCTGTATCTCTGATGCTGAACTATGATGTGTGACTTAAGCCCCCAAATACATCATGTTATTTGGATCCAAGGTGCTGCACAGAACGCTGACCCTCTCTAAGAGCTGGGTATTACT\"\n",
    "strl = [[],[],[]]\n",
    "for i in range(len(str)):\n",
    "    temp = \"\"\n",
    "    for j in range(3):\n",
    "        try:\n",
    "            temp += str[i+j]\n",
    "        except IndexError:\n",
    "            continue\n",
    "    strl[i%3].append(temp)"
   ]
  },
  {
   "cell_type": "code",
   "execution_count": 46,
   "metadata": {},
   "outputs": [],
   "source": [
    "strd = [{},{},{}]\n",
    "for i in range(3):\n",
    "    for j in range(len(strl[i])):\n",
    "        try:\n",
    "            strd[i][strl[i][j]] += 1\n",
    "        except KeyError:\n",
    "            strd[i][strl[i][j]] = 1"
   ]
  },
  {
   "cell_type": "code",
   "execution_count": 50,
   "metadata": {},
   "outputs": [
    {
     "name": "stdout",
     "output_type": "stream",
     "text": [
      "{'TTA': 6, 'ATA': 3, 'CTT': 1, 'TGT': 2, 'ACA': 1, 'GTA': 2, 'ATT': 6, 'CAA': 3, 'CTA': 1, 'AAT': 1, 'TAA': 3, 'AAG': 1, 'AAC': 2, 'TAT': 2, 'CAG': 2, 'GGC': 1, 'CTG': 2, 'CTC': 2, 'TGA': 2, 'TGC': 1, 'ACT': 2, 'ATG': 2, 'GAC': 2, 'AGC': 1, 'CCC': 1, 'CAT': 2, 'GTT': 1, 'TGG': 1, 'ATC': 1, 'GGT': 2, 'GCT': 2, 'GCA': 1, 'CCT': 1, 'GAG': 1}\n"
     ]
    }
   ],
   "source": [
    "# for i in range(3):\n",
    "#     print(len(strd[i].keys()))\n",
    "print(strd[1])"
   ]
  },
  {
   "cell_type": "code",
   "execution_count": 2,
   "metadata": {},
   "outputs": [],
   "source": [
    "import os"
   ]
  },
  {
   "cell_type": "code",
   "execution_count": 78,
   "metadata": {},
   "outputs": [
    {
     "name": "stdout",
     "output_type": "stream",
     "text": [
      "826\n",
      "6\n",
      "['likeit.txt', 'confucius.txt', 'romeo.txt', 'macbeth.txt']\n"
     ]
    }
   ],
   "source": [
    "\n",
    "\n",
    "def read_words_from_folder(folder_path):\n",
    "    words_count = {}\n",
    "    words_countn = {}\n",
    "    total_words = 0\n",
    "    for filename in os.listdir(folder_path):\n",
    "        temp_words = []\n",
    "        if filename.endswith('.txt'):\n",
    "            file_path = os.path.join(folder_path,filename)\n",
    "            with open(file_path,'r') as file:\n",
    "                for line in file:\n",
    "                    words = line.strip().split()\n",
    "                    for word in words:\n",
    "                        if word not in temp_words:\n",
    "                            temp_words.append(word)\n",
    "                        \n",
    "            for word in temp_words:\n",
    "                    words_count[word] = words_count[word]+1 if (word in words_count) else 1\n",
    "                    if (word not in words_countn):\n",
    "                        words_countn[word] = [filename] \n",
    "                    else:\n",
    "                        words_countn[word].append(filename)\n",
    "          \n",
    "    common_words = [word for word, count in words_count.items() if count == 4]\n",
    "    return common_words,words_count, words_countn\n",
    "                    \n",
    "folder_path = \"/home/heisnproph/Project/Test/Duke-Java-Course/Array-list-data/data/PracticeGladLibsData\"\n",
    "common_words, words_count, words_countn = read_words_from_folder(folder_path)\n",
    "print(len(common_words))\n",
    "print(words_count['laid'])\n",
    "print(words_countn['tree'])\n"
   ]
  },
  {
   "cell_type": "code",
   "execution_count": 76,
   "metadata": {},
   "outputs": [
    {
     "name": "stdout",
     "output_type": "stream",
     "text": [
      "{'a': ['file', 'name']}\n"
     ]
    }
   ],
   "source": []
  },
  {
   "cell_type": "markdown",
   "metadata": {},
   "source": [
    "## Final Quize\n"
   ]
  },
  {
   "cell_type": "code",
   "execution_count": 92,
   "metadata": {},
   "outputs": [
    {
     "name": "stdout",
     "output_type": "stream",
     "text": [
      "3721\n",
      "[('of', 609)]\n"
     ]
    }
   ],
   "source": [
    "\n",
    "def read_words_from_file(filename):\n",
    "    \"\"\"从文本文件读取单词。\n",
    "\n",
    "    Args:\n",
    "        filename: 文本文件路径。\n",
    "\n",
    "    Returns:\n",
    "        the amount of words in certain \n",
    "        the most frequent character used to figure out the key\n",
    "    \"\"\"\n",
    "    unique_words = []\n",
    "    unique_wordsd = {}\n",
    "    with open(filename, 'r') as file:\n",
    "        for line in file:\n",
    "            str = line.strip().lower().split()\n",
    "            for word in str:\n",
    "                if word not in unique_words:\n",
    "                    unique_words.append(word)\n",
    "                if word in unique_wordsd:\n",
    "                    unique_wordsd[word] += 1\n",
    "                else:\n",
    "                    unique_wordsd[word] = 1         \n",
    "    return unique_wordsd, unique_words\n",
    "    # return unique_words\n",
    "\n",
    "# 示例用法\n",
    "filename = \"/home/heisnproph/Project/Test/Duke-Java-Course/Array-list-data/data/PracticeGladLibsData/errors.txt\"\n",
    "wordsd, words = read_words_from_file(filename)\n",
    "print(len(words))\n",
    "max_amount = max(wordsd.values())\n",
    "max_words = [(k,v) for (k,v) in wordsd.items() if v==max_amount]\n",
    "print(max_words)"
   ]
  },
  {
   "cell_type": "code",
   "execution_count": 58,
   "metadata": {},
   "outputs": [
    {
     "name": "stdout",
     "output_type": "stream",
     "text": [
      "20 {'AEGEON': 17, 'DUKE': 22, 'GAOLER': 1, 'FIRST MERCHANT': 3, 'ANTIPHOLUS OF SYRACUSE': 102, 'DROMIO OF SYRACUSE': 99, 'DROMIO OF EPHESUS': 63, 'ADRIANA': 79, 'LUCIANA': 42, 'ANTIPHOLUS OF EPHESUS': 73, 'BALTHAZAR': 5, 'LUCE': 6, 'ANGELO': 31, 'SECOND MERCHANT': 12, 'OFFICER': 11, 'COURTEZAN': 11, 'PINCH': 5, 'ABBESS': 16, 'MESSENGER': 2, 'ANTIPHOLUS OFEPHESUS': 3}\n",
      "[('ANTIPHOLUS OF SYRACUSE', 102), ('DROMIO OF SYRACUSE', 99), ('ADRIANA', 79), ('ANTIPHOLUS OF EPHESUS', 73), ('DROMIO OF EPHESUS', 63), ('LUCIANA', 42), ('ANGELO', 31), ('DUKE', 22), ('AEGEON', 17), ('ABBESS', 16), ('SECOND MERCHANT', 12), ('OFFICER', 11), ('COURTEZAN', 11), ('LUCE', 6), ('BALTHAZAR', 5), ('PINCH', 5), ('FIRST MERCHANT', 3), ('ANTIPHOLUS OFEPHESUS', 3), ('MESSENGER', 2), ('GAOLER', 1)]\n"
     ]
    }
   ],
   "source": [
    "## 6\n",
    "\n",
    "filename = \"/home/heisnproph/Project/Test/Duke-Java-Course/Array-list-data/data/PracticeGladLibsData/errors.txt\"\n",
    "with open(filename,'r') as file:\n",
    "    roles = {}\n",
    "    str = file.readlines()\n",
    "    for i in range(len(str)-1):\n",
    "        s = str[i]\n",
    "        s1 = str[i+1]\n",
    "        if (not s.startswith(' ')) and ('.' in s) and (not s1.isspace()):\n",
    "            word = s.split('.')[0]\n",
    "            if word in roles.keys():\n",
    "                roles[word] += 1\n",
    "            else:\n",
    "                roles[word] = 1\n",
    "                \n",
    "print(len(roles),roles)       \n",
    "print(sorted(roles.items(),key = lambda item:item[1],reverse=True))"
   ]
  },
  {
   "cell_type": "code",
   "execution_count": 98,
   "metadata": {},
   "outputs": [
    {
     "name": "stdout",
     "output_type": "stream",
     "text": [
      "{'CAA': 7, 'CCT': 2, 'TTA': 4, 'AAA': 10, 'GGA': 4, 'AGA': 6, 'AAT': 6, 'CGC': 2, 'AGC': 3, 'CCA': 6, 'GAA': 8, 'ACT': 4, 'GCA': 6, 'TAA': 5, 'CAT': 5, 'ACA': 5, 'ACC': 5, 'TTT': 3, 'AGG': 3, 'AAG': 6, 'TCG': 2, 'CAG': 7, 'CCC': 2, 'AAC': 10, 'TGC': 2, 'ATA': 5, 'TAC': 3, 'CTT': 3, 'ATC': 3, 'GCC': 3, 'CTG': 3, 'CTA': 1, 'TCA': 1}\n"
     ]
    }
   ],
   "source": [
    "## 9,10\n",
    "filename = \"/home/heisnproph/Project/Test/Duke-Java-Course/Array-list-data/data/PracticeGladLibsData/dnaMystery2\"\n",
    "with open(filename) as file:\n",
    "    str = file.read()\n",
    "    strl = [[],[],[]]\n",
    "    for i in range(len(str)):\n",
    "        temp = \"\"\n",
    "        for j in range(3):\n",
    "            try:\n",
    "                temp += str[i+j]\n",
    "            except IndexError:\n",
    "                continue\n",
    "        if len(temp)==3:\n",
    "            strl[i%3].append(temp)\n",
    "\n",
    "strd = [{},{},{}]\n",
    "for i in range(3):\n",
    "    for j in range(len(strl[i])):\n",
    "        if strl[i][j] in strd[i].keys():\n",
    "            strd[i][strl[i][j]] += 1\n",
    "        else:\n",
    "            strd[i][strl[i][j]] = 1\n",
    "# print([(k,v) for (k,v) in strd[2].items() if v == max(strd[2].values())])\n",
    "# print(len(strd[1]))\n",
    "print(strd[0])"
   ]
  },
  {
   "cell_type": "code",
   "execution_count": null,
   "metadata": {},
   "outputs": [],
   "source": []
  },
  {
   "cell_type": "code",
   "execution_count": null,
   "metadata": {},
   "outputs": [],
   "source": []
  }
 ],
 "metadata": {
  "kernelspec": {
   "display_name": "tf21",
   "language": "python",
   "name": "python3"
  },
  "language_info": {
   "codemirror_mode": {
    "name": "ipython",
    "version": 3
   },
   "file_extension": ".py",
   "mimetype": "text/x-python",
   "name": "python",
   "nbconvert_exporter": "python",
   "pygments_lexer": "ipython3",
   "version": "3.11.9"
  }
 },
 "nbformat": 4,
 "nbformat_minor": 2
}
