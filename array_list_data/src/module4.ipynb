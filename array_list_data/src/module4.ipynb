{
 "cells": [
  {
   "cell_type": "code",
   "execution_count": null,
   "metadata": {},
   "outputs": [],
   "source": [
    "import re\n",
    "\n",
    "class log_reader:\n",
    "    def __init__(self) -> None:\n",
    "        ip=\n",
    "        date=\n",
    "        status=\n",
    "        bytes_returned="
   ]
  },
  {
   "cell_type": "markdown",
   "metadata": {},
   "source": [
    "## Quiz 2"
   ]
  },
  {
   "cell_type": "code",
   "execution_count": 23,
   "metadata": {},
   "outputs": [
    {
     "name": "stdout",
     "output_type": "stream",
     "text": [
      "出现次数最多的 IP 地址是 188.162.84.63, 出现了 63 次。\n",
      "63\n",
      "45\n"
     ]
    }
   ],
   "source": [
    "import re\n",
    "\n",
    "def parse_log_file(filename):\n",
    "    \"\"\"解析日志文件并统计 IP 地址出现次数\n",
    "\n",
    "    Args:\n",
    "        filename: 日志文件名\n",
    "\n",
    "    Returns:\n",
    "        一个字典，键是 IP 地址，值是出现次数\n",
    "    \"\"\"\n",
    "    ip_counts = {}\n",
    "    with open(filename, 'r') as f:\n",
    "        file = f.readlines()\n",
    "        for line in file:\n",
    "            # 使用正则表达式匹配 IP 地址\n",
    "            match = re.search(r'(\\d{1,3}\\.\\d{1,3}\\.\\d{1,3}\\.\\d{1,3})', line)\n",
    "            if match:\n",
    "                ip = match.group(1)\n",
    "                if ip in ip_counts:\n",
    "                    ip_counts[ip] += 1\n",
    "                else:\n",
    "                    ip_counts[ip] = 1\n",
    "    return ip_counts\n",
    "\n",
    "def find_most_frequent_ip(ip_counts):\n",
    "    \"\"\"查找出现次数最多的 IP 地址\n",
    "\n",
    "    Args:\n",
    "        ip_counts: IP 地址出现次数字典\n",
    "\n",
    "    Returns:\n",
    "        一个元组，包含出现次数最多的 IP 地址和出现次数\n",
    "    \"\"\"\n",
    "    most_frequent_ip = None\n",
    "    max_count = 0\n",
    "    for ip, count in ip_counts.items():\n",
    "        if count > max_count:\n",
    "            most_frequent_ip = ip\n",
    "            max_count = count\n",
    "    return most_frequent_ip, max_count\n",
    "\n",
    "# 示例用法\n",
    "logfile = \"/home/heisnproph/Project/Test/Duke-Java-Course/Array-list-data/data/web1blog_log\"  # 替换为你的日志文件名\n",
    "ip_counts = parse_log_file(logfile)\n",
    "most_frequent_ip, count = find_most_frequent_ip(ip_counts)\n",
    "\n",
    "print(f\"出现次数最多的 IP 地址是 {most_frequent_ip}, 出现了 {count} 次。\")\n",
    "print(max(ip_counts.values()))\n",
    "print(len(ip_counts))"
   ]
  },
  {
   "cell_type": "code",
   "execution_count": 24,
   "metadata": {},
   "outputs": [
    {
     "name": "stdout",
     "output_type": "stream",
     "text": [
      "访问量最大的日期是 2015-Sep-24, 访问量为 107。\n"
     ]
    }
   ],
   "source": [
    "import re\n",
    "from collections import defaultdict\n",
    "\n",
    "def parse_log_file(filename):\n",
    "    \"\"\"解析日志文件并统计每天的访问量\n",
    "\n",
    "    Args:\n",
    "        filename: 日志文件名\n",
    "\n",
    "    Returns:\n",
    "        一个字典，键是日期（格式为 \"YYYY-MM-DD\"），值是该日期的访问量\n",
    "    \"\"\"\n",
    "    date_counts = defaultdict(int)\n",
    "    with open(filename, 'r') as f:\n",
    "        for line in f:\n",
    "            # 使用正则表达式匹配日期\n",
    "            match = re.search(r'\\[(\\d{2}/\\w{3}/\\d{4})', line)\n",
    "            if match:\n",
    "                date_str = match.group(1)\n",
    "                # 将日期格式化为 \"YYYY-MM-DD\"\n",
    "                date = \"-\".join(date_str.split(\"/\")[::-1])\n",
    "                date_counts[date] += 1\n",
    "    return date_counts\n",
    "\n",
    "def find_day_with_most_visits(date_counts):\n",
    "    \"\"\"查找访问量最大的日期\n",
    "\n",
    "    Args:\n",
    "        date_counts: 日期访问量字典\n",
    "\n",
    "    Returns:\n",
    "        一个元组，包含访问量最大的日期和访问量\n",
    "    \"\"\"\n",
    "    most_visited_day = None\n",
    "    max_count = 0\n",
    "    for date, count in date_counts.items():\n",
    "        if count > max_count:\n",
    "            most_visited_day = date\n",
    "            max_count = count\n",
    "    return most_visited_day, max_count\n",
    "\n",
    "# 示例用法\n",
    "logfile = \"/home/heisnproph/Project/Test/Duke-Java-Course/Array-list-data/data/web1blog_log\"  # 替换为你的日志文件名\n",
    "date_counts = parse_log_file(logfile)\n",
    "most_visited_day, count = find_day_with_most_visits(date_counts)\n",
    "\n",
    "print(f\"访问量最大的日期是 {most_visited_day}, 访问量为 {count}。\")"
   ]
  },
  {
   "cell_type": "code",
   "execution_count": 5,
   "metadata": {},
   "outputs": [
    {
     "name": "stdout",
     "output_type": "stream",
     "text": [
      "14\n",
      "在 2015-Sep-24 有以下 IP 地址访问：\n",
      "204.94.39.11\n",
      "85.226.20.130\n",
      "107.20.4.237\n",
      "66.249.79.222\n",
      "110.76.73.135\n",
      "97.96.11.18\n",
      "66.249.84.244\n",
      "82.164.236.226\n",
      "177.53.237.142\n",
      "75.108.138.221\n",
      "188.162.84.63\n",
      "190.233.145.245\n",
      "103.57.41.178\n",
      "122.252.227.228\n"
     ]
    }
   ],
   "source": [
    "import re\n",
    "\n",
    "def parse_log_file(filename, target_date):\n",
    "    \"\"\"解析日志文件并返回指定日期的 IP 地址列表\n",
    "\n",
    "    Args:\n",
    "        filename: 日志文件名\n",
    "        target_date: 目标日期，格式为 \"YYYY-MM-DD\"\n",
    "\n",
    "    Returns:\n",
    "        一个包含指定日期所有 IP 地址的列表\n",
    "    \"\"\"\n",
    "    ips = []\n",
    "    with open(filename, 'r') as f:\n",
    "        for line in f:\n",
    "            # 使用正则表达式匹配日期和 IP 地址\n",
    "            match = re.search(r'(\\d{1,3}\\.\\d{1,3}\\.\\d{1,3}\\.\\d{1,3}) - - \\[(\\d{2}/\\w{3}/\\d{4})', line)\n",
    "            if match:\n",
    "                date_str = match.group(2)\n",
    "                date = \"-\".join(date_str.split(\"/\")[::-1])\n",
    "                if date == target_date:\n",
    "                    ip = match.group(1)\n",
    "                    if ip not in ips:\n",
    "                        ips.append(ip)\n",
    "    return ips\n",
    "\n",
    "# 示例用法\n",
    "logfile = \"/home/heisnproph/Project/Test/Duke-Java-Course/Array-list-data/data/web1blog_log\"  # 替换为你的日志文件名\n",
    "target_date = \"2015-Sep-24\"  # 替换为你要查询的日期\n",
    "\n",
    "ips = parse_log_file(logfile, target_date)\n",
    "\n",
    "print(len(ips))\n",
    "if ips:\n",
    "    print(f\"在 {target_date} 有以下 IP 地址访问：\")\n",
    "    for ip in ips:\n",
    "        print(ip)\n",
    "else:\n",
    "    print(f\"在 {target_date} 没有访问记录。\")"
   ]
  }
 ],
 "metadata": {
  "kernelspec": {
   "display_name": "tf21",
   "language": "python",
   "name": "python3"
  },
  "language_info": {
   "codemirror_mode": {
    "name": "ipython",
    "version": 3
   },
   "file_extension": ".py",
   "mimetype": "text/x-python",
   "name": "python",
   "nbconvert_exporter": "python",
   "pygments_lexer": "ipython3",
   "version": "3.11.9"
  }
 },
 "nbformat": 4,
 "nbformat_minor": 2
}
