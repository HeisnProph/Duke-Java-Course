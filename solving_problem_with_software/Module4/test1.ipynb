{
 "cells": [
  {
   "cell_type": "code",
   "execution_count": 175,
   "metadata": {},
   "outputs": [
    {
     "name": "stdout",
     "output_type": "stream",
     "text": [
      "19.0 2013-01-23 10:51:00\n",
      "所有 CSV 文件中的最小温度值为：19.0\n"
     ]
    }
   ],
   "source": [
    "import os\n",
    "import csv\n",
    "\n",
    "def find_min_temperature(folder_path):\n",
    "  \"\"\"遍历文件夹中的所有 CSV 文件，找到所有文件的最小温度值。\n",
    "\n",
    "  Args:\n",
    "      folder_path: 文件夹路径\n",
    "\n",
    "  Returns:\n",
    "      float: 所有 CSV 文件中的最小温度值。\n",
    "  \"\"\"\n",
    "\n",
    "  min_temp = 100  # 初始化最小温度值为无穷大\n",
    "  i = 0\n",
    "  t = 1\n",
    "  for filename in os.listdir(folder_path):\n",
    "    if filename.endswith(\".csv\"):\n",
    "      file_path = os.path.join(folder_path, filename)\n",
    "      with open(file_path, 'r') as csvfile:\n",
    "        reader = csv.reader(csvfile)\n",
    "        next(reader)  # 跳过表头行\n",
    "        for row in reader:\n",
    "          try:\n",
    "            temperature = float(row[1])  # 假设温度值在第二列\n",
    "            min_temp = min(min_temp, temperature)\n",
    "          except (ValueError, IndexError):\n",
    "            # 如果遇到错误，忽略该行\n",
    "            pass\n",
    "          i += 1\n",
    "          while t:\n",
    "            if min_temp == 19:\n",
    "              print(row[1],row[-1])\n",
    "              t = 0\n",
    "            break\n",
    "        \n",
    "\n",
    "  return min_temp\n",
    "\n",
    "# 示例用法\n",
    "folder_path = r\"E:\\OneDrive\\Project\\Test\\Duke-Java-Course\\Solving-Problem-with-software\\Module4\\data\\2013\"  # 替换为你的文件夹路径\n",
    "min_temp_overall = find_min_temperature(folder_path)\n",
    "print(f\"所有 CSV 文件中的最小温度值为：{min_temp_overall}\")"
   ]
  },
  {
   "cell_type": "code",
   "execution_count": 173,
   "metadata": {},
   "outputs": [
    {
     "name": "stdout",
     "output_type": "stream",
     "text": [
      "72.59375 28 16\n"
     ]
    }
   ],
   "source": [
    "temp = 0\n",
    "i = 0\n",
    "hum = []\n",
    "with open(r'E:\\OneDrive\\Project\\Test\\Duke-Java-Course\\Solving-Problem-with-software\\Module4\\data\\2013\\weather-2013-09-02.csv') as csvfile:\n",
    "    reader = csv.reader(csvfile)\n",
    "    next(reader)  # 跳过表头行\n",
    "    for row in reader:\n",
    "        # hum.append([float(row[3]),row[-1]])\n",
    "        if float(row[3]) >= 80:\n",
    "            temp += float(row[1])\n",
    "            i += 1\n",
    "    \n",
    "    print(temp/i,reader.line_num,i)\n",
    "    # humi = [row[0] for row in hum]   \n",
    "    # print(humi)\n",
    "    # index = humi.index(min(humi))\n",
    "    # print(hum[index][1])\n",
    "\n",
    "    "
   ]
  },
  {
   "cell_type": "code",
   "execution_count": 125,
   "metadata": {},
   "outputs": [
    {
     "name": "stdout",
     "output_type": "stream",
     "text": [
      "China\n",
      "European Union\n",
      "Germany\n",
      "United States\n"
     ]
    }
   ],
   "source": [
    "temp = 0\n",
    "i = 0\n",
    "with open(r'E:\\OneDrive\\Project\\Test\\Duke-Java-Course\\Solving-Problem-with-software\\Module4\\data\\exportdata.csv') as csvfile:\n",
    "    reader = csv.reader(csvfile)\n",
    "    next(reader)  # 跳过表头行\n",
    "    for row in reader:\n",
    "        if(float((row[2]).replace('$','').replace(',','')) > 999999999999):\n",
    "            print(row[0])\n",
    "\n"
   ]
  }
 ],
 "metadata": {
  "kernelspec": {
   "display_name": "Python 3",
   "language": "python",
   "name": "python3"
  },
  "language_info": {
   "codemirror_mode": {
    "name": "ipython",
    "version": 3
   },
   "file_extension": ".py",
   "mimetype": "text/x-python",
   "name": "python",
   "nbconvert_exporter": "python",
   "pygments_lexer": "ipython3",
   "version": "3.12.3"
  }
 },
 "nbformat": 4,
 "nbformat_minor": 2
}
